{
  "nbformat": 4,
  "nbformat_minor": 0,
  "metadata": {
    "colab": {
      "provenance": [],
      "authorship_tag": "ABX9TyPk6pzMWMdDWy+OE21Agok0",
      "include_colab_link": true
    },
    "kernelspec": {
      "name": "python3",
      "display_name": "Python 3"
    },
    "language_info": {
      "name": "python"
    }
  },
  "cells": [
    {
      "cell_type": "markdown",
      "metadata": {
        "id": "view-in-github",
        "colab_type": "text"
      },
      "source": [
        "<a href=\"https://colab.research.google.com/github/leprogramar/obsidian/blob/master/dados_analise_let.ipynb\" target=\"_parent\"><img src=\"https://colab.research.google.com/assets/colab-badge.svg\" alt=\"Open In Colab\"/></a>"
      ]
    },
    {
      "cell_type": "markdown",
      "source": [
        "# **Imports**"
      ],
      "metadata": {
        "id": "OqsWbxfNwSjG"
      }
    },
    {
      "cell_type": "code",
      "execution_count": 58,
      "metadata": {
        "id": "zQQqTYMpwCM6"
      },
      "outputs": [],
      "source": [
        "import pandas as pd\n",
        "from scipy.stats import shapiro #Teste de normalidade\n",
        "from scipy.stats import ttest_ind #Teste t de Student\n",
        "from scipy.stats import wilcoxon #Teste de Wilcoxon"
      ]
    },
    {
      "cell_type": "markdown",
      "source": [
        "# **Carregando os dados**"
      ],
      "metadata": {
        "id": "fpxVPNt0wx9-"
      }
    },
    {
      "cell_type": "code",
      "source": [
        "df = pd.read_csv('https://raw.githubusercontent.com/leprogramar/obsidian/master/Dissertacao-versoes/Dissertacao-versao-6/dados-dissertacao.csv') # Esse Dataframe está hospedado no GitHub. Caso nao não carregue, procure pelo link.\n",
        "df.head()"
      ],
      "metadata": {
        "colab": {
          "base_uri": "https://localhost:8080/",
          "height": 325
        },
        "id": "VHhVPAOKwV67",
        "outputId": "e19bfa01-b905-4a3d-dafb-b2f6c8962a87"
      },
      "execution_count": 20,
      "outputs": [
        {
          "output_type": "execute_result",
          "data": {
            "text/plain": [
              "            nome  tempo-50m-cap-aquec  tempo-50m-plac-aquec  \\\n",
              "0         renato                28.93                 29.78   \n",
              "1          paulo                29.63                 29.69   \n",
              "2        matheus                27.38                 27.71   \n",
              "3  vinicius-leal                32.33                 31.12   \n",
              "4      guilherme                28.42                 27.54   \n",
              "\n",
              "   tempo-50m-cap-nnaquec  tempo-50m-plac-nnaquec  tempo-15m-cap-aquec  \\\n",
              "0                  29.45                   29.70                 7.03   \n",
              "1                  29.71                   29.61                 7.02   \n",
              "2                  27.20                   27.30                 6.24   \n",
              "3                  31.47                   31.13                 7.06   \n",
              "4                  28.95                   28.87                 7.02   \n",
              "\n",
              "   tempo-15m-plac-aquec  tempo-15m-cap-nnaquec  tempo-15m-plac-nnaquec  \\\n",
              "0                  7.16                   7.08                    7.08   \n",
              "1                  7.01                   7.01                    7.06   \n",
              "2                  6.19                   6.19                    6.22   \n",
              "3                  7.14                   7.14                    7.08   \n",
              "4                  7.03                   7.08                    7.07   \n",
              "\n",
              "   tempo-35m-cap-aquec  ...  preparacao-cap-nnaquec  preparacao-plac-nnaquec  \\\n",
              "0                20.01  ...                     8.3                      9.1   \n",
              "1                22.61  ...                     9.2                      9.2   \n",
              "2                21.14  ...                     8.8                      9.7   \n",
              "3                24.01  ...                     5.8                      4.9   \n",
              "4                20.01  ...                     7.6                      7.3   \n",
              "\n",
              "   brums-vigor-cap-aquec  brums-vigor-plac-aquec  brums-vigor-cap-nnaquec  \\\n",
              "0                    9.0                     8.0                       11   \n",
              "1                   10.0                     9.0                       10   \n",
              "2                   14.0                     7.0                        9   \n",
              "3                    8.0                     7.0                        7   \n",
              "4                    8.0                     8.0                       10   \n",
              "\n",
              "   brums-vigor-plac-nnaquec  brums-fadiga-cap-aquec  brums-fadiga-plac-aquec  \\\n",
              "0                         8                     2.0                      5.0   \n",
              "1                         8                     3.0                      4.0   \n",
              "2                        12                     0.0                      3.0   \n",
              "3                         6                     6.0                      5.0   \n",
              "4                         9                     2.0                      2.0   \n",
              "\n",
              "   brums-fadiga-cap-nnaquec  brums-fadiga-plac-nnaquec  \n",
              "0                        11                          3  \n",
              "1                        10                          4  \n",
              "2                         9                          0  \n",
              "3                         7                          2  \n",
              "4                        10                          2  \n",
              "\n",
              "[5 rows x 61 columns]"
            ],
            "text/html": [
              "\n",
              "  <div id=\"df-6f753d61-0864-497c-a094-ba3b881971b7\" class=\"colab-df-container\">\n",
              "    <div>\n",
              "<style scoped>\n",
              "    .dataframe tbody tr th:only-of-type {\n",
              "        vertical-align: middle;\n",
              "    }\n",
              "\n",
              "    .dataframe tbody tr th {\n",
              "        vertical-align: top;\n",
              "    }\n",
              "\n",
              "    .dataframe thead th {\n",
              "        text-align: right;\n",
              "    }\n",
              "</style>\n",
              "<table border=\"1\" class=\"dataframe\">\n",
              "  <thead>\n",
              "    <tr style=\"text-align: right;\">\n",
              "      <th></th>\n",
              "      <th>nome</th>\n",
              "      <th>tempo-50m-cap-aquec</th>\n",
              "      <th>tempo-50m-plac-aquec</th>\n",
              "      <th>tempo-50m-cap-nnaquec</th>\n",
              "      <th>tempo-50m-plac-nnaquec</th>\n",
              "      <th>tempo-15m-cap-aquec</th>\n",
              "      <th>tempo-15m-plac-aquec</th>\n",
              "      <th>tempo-15m-cap-nnaquec</th>\n",
              "      <th>tempo-15m-plac-nnaquec</th>\n",
              "      <th>tempo-35m-cap-aquec</th>\n",
              "      <th>...</th>\n",
              "      <th>preparacao-cap-nnaquec</th>\n",
              "      <th>preparacao-plac-nnaquec</th>\n",
              "      <th>brums-vigor-cap-aquec</th>\n",
              "      <th>brums-vigor-plac-aquec</th>\n",
              "      <th>brums-vigor-cap-nnaquec</th>\n",
              "      <th>brums-vigor-plac-nnaquec</th>\n",
              "      <th>brums-fadiga-cap-aquec</th>\n",
              "      <th>brums-fadiga-plac-aquec</th>\n",
              "      <th>brums-fadiga-cap-nnaquec</th>\n",
              "      <th>brums-fadiga-plac-nnaquec</th>\n",
              "    </tr>\n",
              "  </thead>\n",
              "  <tbody>\n",
              "    <tr>\n",
              "      <th>0</th>\n",
              "      <td>renato</td>\n",
              "      <td>28.93</td>\n",
              "      <td>29.78</td>\n",
              "      <td>29.45</td>\n",
              "      <td>29.70</td>\n",
              "      <td>7.03</td>\n",
              "      <td>7.16</td>\n",
              "      <td>7.08</td>\n",
              "      <td>7.08</td>\n",
              "      <td>20.01</td>\n",
              "      <td>...</td>\n",
              "      <td>8.3</td>\n",
              "      <td>9.1</td>\n",
              "      <td>9.0</td>\n",
              "      <td>8.0</td>\n",
              "      <td>11</td>\n",
              "      <td>8</td>\n",
              "      <td>2.0</td>\n",
              "      <td>5.0</td>\n",
              "      <td>11</td>\n",
              "      <td>3</td>\n",
              "    </tr>\n",
              "    <tr>\n",
              "      <th>1</th>\n",
              "      <td>paulo</td>\n",
              "      <td>29.63</td>\n",
              "      <td>29.69</td>\n",
              "      <td>29.71</td>\n",
              "      <td>29.61</td>\n",
              "      <td>7.02</td>\n",
              "      <td>7.01</td>\n",
              "      <td>7.01</td>\n",
              "      <td>7.06</td>\n",
              "      <td>22.61</td>\n",
              "      <td>...</td>\n",
              "      <td>9.2</td>\n",
              "      <td>9.2</td>\n",
              "      <td>10.0</td>\n",
              "      <td>9.0</td>\n",
              "      <td>10</td>\n",
              "      <td>8</td>\n",
              "      <td>3.0</td>\n",
              "      <td>4.0</td>\n",
              "      <td>10</td>\n",
              "      <td>4</td>\n",
              "    </tr>\n",
              "    <tr>\n",
              "      <th>2</th>\n",
              "      <td>matheus</td>\n",
              "      <td>27.38</td>\n",
              "      <td>27.71</td>\n",
              "      <td>27.20</td>\n",
              "      <td>27.30</td>\n",
              "      <td>6.24</td>\n",
              "      <td>6.19</td>\n",
              "      <td>6.19</td>\n",
              "      <td>6.22</td>\n",
              "      <td>21.14</td>\n",
              "      <td>...</td>\n",
              "      <td>8.8</td>\n",
              "      <td>9.7</td>\n",
              "      <td>14.0</td>\n",
              "      <td>7.0</td>\n",
              "      <td>9</td>\n",
              "      <td>12</td>\n",
              "      <td>0.0</td>\n",
              "      <td>3.0</td>\n",
              "      <td>9</td>\n",
              "      <td>0</td>\n",
              "    </tr>\n",
              "    <tr>\n",
              "      <th>3</th>\n",
              "      <td>vinicius-leal</td>\n",
              "      <td>32.33</td>\n",
              "      <td>31.12</td>\n",
              "      <td>31.47</td>\n",
              "      <td>31.13</td>\n",
              "      <td>7.06</td>\n",
              "      <td>7.14</td>\n",
              "      <td>7.14</td>\n",
              "      <td>7.08</td>\n",
              "      <td>24.01</td>\n",
              "      <td>...</td>\n",
              "      <td>5.8</td>\n",
              "      <td>4.9</td>\n",
              "      <td>8.0</td>\n",
              "      <td>7.0</td>\n",
              "      <td>7</td>\n",
              "      <td>6</td>\n",
              "      <td>6.0</td>\n",
              "      <td>5.0</td>\n",
              "      <td>7</td>\n",
              "      <td>2</td>\n",
              "    </tr>\n",
              "    <tr>\n",
              "      <th>4</th>\n",
              "      <td>guilherme</td>\n",
              "      <td>28.42</td>\n",
              "      <td>27.54</td>\n",
              "      <td>28.95</td>\n",
              "      <td>28.87</td>\n",
              "      <td>7.02</td>\n",
              "      <td>7.03</td>\n",
              "      <td>7.08</td>\n",
              "      <td>7.07</td>\n",
              "      <td>20.01</td>\n",
              "      <td>...</td>\n",
              "      <td>7.6</td>\n",
              "      <td>7.3</td>\n",
              "      <td>8.0</td>\n",
              "      <td>8.0</td>\n",
              "      <td>10</td>\n",
              "      <td>9</td>\n",
              "      <td>2.0</td>\n",
              "      <td>2.0</td>\n",
              "      <td>10</td>\n",
              "      <td>2</td>\n",
              "    </tr>\n",
              "  </tbody>\n",
              "</table>\n",
              "<p>5 rows × 61 columns</p>\n",
              "</div>\n",
              "    <div class=\"colab-df-buttons\">\n",
              "\n",
              "  <div class=\"colab-df-container\">\n",
              "    <button class=\"colab-df-convert\" onclick=\"convertToInteractive('df-6f753d61-0864-497c-a094-ba3b881971b7')\"\n",
              "            title=\"Convert this dataframe to an interactive table.\"\n",
              "            style=\"display:none;\">\n",
              "\n",
              "  <svg xmlns=\"http://www.w3.org/2000/svg\" height=\"24px\" viewBox=\"0 -960 960 960\">\n",
              "    <path d=\"M120-120v-720h720v720H120Zm60-500h600v-160H180v160Zm220 220h160v-160H400v160Zm0 220h160v-160H400v160ZM180-400h160v-160H180v160Zm440 0h160v-160H620v160ZM180-180h160v-160H180v160Zm440 0h160v-160H620v160Z\"/>\n",
              "  </svg>\n",
              "    </button>\n",
              "\n",
              "  <style>\n",
              "    .colab-df-container {\n",
              "      display:flex;\n",
              "      gap: 12px;\n",
              "    }\n",
              "\n",
              "    .colab-df-convert {\n",
              "      background-color: #E8F0FE;\n",
              "      border: none;\n",
              "      border-radius: 50%;\n",
              "      cursor: pointer;\n",
              "      display: none;\n",
              "      fill: #1967D2;\n",
              "      height: 32px;\n",
              "      padding: 0 0 0 0;\n",
              "      width: 32px;\n",
              "    }\n",
              "\n",
              "    .colab-df-convert:hover {\n",
              "      background-color: #E2EBFA;\n",
              "      box-shadow: 0px 1px 2px rgba(60, 64, 67, 0.3), 0px 1px 3px 1px rgba(60, 64, 67, 0.15);\n",
              "      fill: #174EA6;\n",
              "    }\n",
              "\n",
              "    .colab-df-buttons div {\n",
              "      margin-bottom: 4px;\n",
              "    }\n",
              "\n",
              "    [theme=dark] .colab-df-convert {\n",
              "      background-color: #3B4455;\n",
              "      fill: #D2E3FC;\n",
              "    }\n",
              "\n",
              "    [theme=dark] .colab-df-convert:hover {\n",
              "      background-color: #434B5C;\n",
              "      box-shadow: 0px 1px 3px 1px rgba(0, 0, 0, 0.15);\n",
              "      filter: drop-shadow(0px 1px 2px rgba(0, 0, 0, 0.3));\n",
              "      fill: #FFFFFF;\n",
              "    }\n",
              "  </style>\n",
              "\n",
              "    <script>\n",
              "      const buttonEl =\n",
              "        document.querySelector('#df-6f753d61-0864-497c-a094-ba3b881971b7 button.colab-df-convert');\n",
              "      buttonEl.style.display =\n",
              "        google.colab.kernel.accessAllowed ? 'block' : 'none';\n",
              "\n",
              "      async function convertToInteractive(key) {\n",
              "        const element = document.querySelector('#df-6f753d61-0864-497c-a094-ba3b881971b7');\n",
              "        const dataTable =\n",
              "          await google.colab.kernel.invokeFunction('convertToInteractive',\n",
              "                                                    [key], {});\n",
              "        if (!dataTable) return;\n",
              "\n",
              "        const docLinkHtml = 'Like what you see? Visit the ' +\n",
              "          '<a target=\"_blank\" href=https://colab.research.google.com/notebooks/data_table.ipynb>data table notebook</a>'\n",
              "          + ' to learn more about interactive tables.';\n",
              "        element.innerHTML = '';\n",
              "        dataTable['output_type'] = 'display_data';\n",
              "        await google.colab.output.renderOutput(dataTable, element);\n",
              "        const docLink = document.createElement('div');\n",
              "        docLink.innerHTML = docLinkHtml;\n",
              "        element.appendChild(docLink);\n",
              "      }\n",
              "    </script>\n",
              "  </div>\n",
              "\n",
              "\n",
              "<div id=\"df-3bf3b3a0-8074-4642-b877-3baa1e0d1ba2\">\n",
              "  <button class=\"colab-df-quickchart\" onclick=\"quickchart('df-3bf3b3a0-8074-4642-b877-3baa1e0d1ba2')\"\n",
              "            title=\"Suggest charts\"\n",
              "            style=\"display:none;\">\n",
              "\n",
              "<svg xmlns=\"http://www.w3.org/2000/svg\" height=\"24px\"viewBox=\"0 0 24 24\"\n",
              "     width=\"24px\">\n",
              "    <g>\n",
              "        <path d=\"M19 3H5c-1.1 0-2 .9-2 2v14c0 1.1.9 2 2 2h14c1.1 0 2-.9 2-2V5c0-1.1-.9-2-2-2zM9 17H7v-7h2v7zm4 0h-2V7h2v10zm4 0h-2v-4h2v4z\"/>\n",
              "    </g>\n",
              "</svg>\n",
              "  </button>\n",
              "\n",
              "<style>\n",
              "  .colab-df-quickchart {\n",
              "      --bg-color: #E8F0FE;\n",
              "      --fill-color: #1967D2;\n",
              "      --hover-bg-color: #E2EBFA;\n",
              "      --hover-fill-color: #174EA6;\n",
              "      --disabled-fill-color: #AAA;\n",
              "      --disabled-bg-color: #DDD;\n",
              "  }\n",
              "\n",
              "  [theme=dark] .colab-df-quickchart {\n",
              "      --bg-color: #3B4455;\n",
              "      --fill-color: #D2E3FC;\n",
              "      --hover-bg-color: #434B5C;\n",
              "      --hover-fill-color: #FFFFFF;\n",
              "      --disabled-bg-color: #3B4455;\n",
              "      --disabled-fill-color: #666;\n",
              "  }\n",
              "\n",
              "  .colab-df-quickchart {\n",
              "    background-color: var(--bg-color);\n",
              "    border: none;\n",
              "    border-radius: 50%;\n",
              "    cursor: pointer;\n",
              "    display: none;\n",
              "    fill: var(--fill-color);\n",
              "    height: 32px;\n",
              "    padding: 0;\n",
              "    width: 32px;\n",
              "  }\n",
              "\n",
              "  .colab-df-quickchart:hover {\n",
              "    background-color: var(--hover-bg-color);\n",
              "    box-shadow: 0 1px 2px rgba(60, 64, 67, 0.3), 0 1px 3px 1px rgba(60, 64, 67, 0.15);\n",
              "    fill: var(--button-hover-fill-color);\n",
              "  }\n",
              "\n",
              "  .colab-df-quickchart-complete:disabled,\n",
              "  .colab-df-quickchart-complete:disabled:hover {\n",
              "    background-color: var(--disabled-bg-color);\n",
              "    fill: var(--disabled-fill-color);\n",
              "    box-shadow: none;\n",
              "  }\n",
              "\n",
              "  .colab-df-spinner {\n",
              "    border: 2px solid var(--fill-color);\n",
              "    border-color: transparent;\n",
              "    border-bottom-color: var(--fill-color);\n",
              "    animation:\n",
              "      spin 1s steps(1) infinite;\n",
              "  }\n",
              "\n",
              "  @keyframes spin {\n",
              "    0% {\n",
              "      border-color: transparent;\n",
              "      border-bottom-color: var(--fill-color);\n",
              "      border-left-color: var(--fill-color);\n",
              "    }\n",
              "    20% {\n",
              "      border-color: transparent;\n",
              "      border-left-color: var(--fill-color);\n",
              "      border-top-color: var(--fill-color);\n",
              "    }\n",
              "    30% {\n",
              "      border-color: transparent;\n",
              "      border-left-color: var(--fill-color);\n",
              "      border-top-color: var(--fill-color);\n",
              "      border-right-color: var(--fill-color);\n",
              "    }\n",
              "    40% {\n",
              "      border-color: transparent;\n",
              "      border-right-color: var(--fill-color);\n",
              "      border-top-color: var(--fill-color);\n",
              "    }\n",
              "    60% {\n",
              "      border-color: transparent;\n",
              "      border-right-color: var(--fill-color);\n",
              "    }\n",
              "    80% {\n",
              "      border-color: transparent;\n",
              "      border-right-color: var(--fill-color);\n",
              "      border-bottom-color: var(--fill-color);\n",
              "    }\n",
              "    90% {\n",
              "      border-color: transparent;\n",
              "      border-bottom-color: var(--fill-color);\n",
              "    }\n",
              "  }\n",
              "</style>\n",
              "\n",
              "  <script>\n",
              "    async function quickchart(key) {\n",
              "      const quickchartButtonEl =\n",
              "        document.querySelector('#' + key + ' button');\n",
              "      quickchartButtonEl.disabled = true;  // To prevent multiple clicks.\n",
              "      quickchartButtonEl.classList.add('colab-df-spinner');\n",
              "      try {\n",
              "        const charts = await google.colab.kernel.invokeFunction(\n",
              "            'suggestCharts', [key], {});\n",
              "      } catch (error) {\n",
              "        console.error('Error during call to suggestCharts:', error);\n",
              "      }\n",
              "      quickchartButtonEl.classList.remove('colab-df-spinner');\n",
              "      quickchartButtonEl.classList.add('colab-df-quickchart-complete');\n",
              "    }\n",
              "    (() => {\n",
              "      let quickchartButtonEl =\n",
              "        document.querySelector('#df-3bf3b3a0-8074-4642-b877-3baa1e0d1ba2 button');\n",
              "      quickchartButtonEl.style.display =\n",
              "        google.colab.kernel.accessAllowed ? 'block' : 'none';\n",
              "    })();\n",
              "  </script>\n",
              "</div>\n",
              "\n",
              "    </div>\n",
              "  </div>\n"
            ],
            "application/vnd.google.colaboratory.intrinsic+json": {
              "type": "dataframe",
              "variable_name": "df"
            }
          },
          "metadata": {},
          "execution_count": 20
        }
      ]
    },
    {
      "cell_type": "markdown",
      "source": [
        "# Teste altomatizado de **Shapiro** para todas as as variáveis"
      ],
      "metadata": {
        "id": "MH_v_BbSxazp"
      }
    },
    {
      "cell_type": "code",
      "source": [
        "numeric_df = df.select_dtypes(include=['number']) # Filtrando para o spript pegar apenas dados numéricos\n",
        "results = {}\n",
        "for column in numeric_df.columns:\n",
        "    stat, p = shapiro(numeric_df[column].dropna())  # Remover valores NaN antes do teste (o teste de shapiro dá erro se tiver Nan)\n",
        "    results[column] = {'Statistic': stat, 'p_value': p}  # Armazenando os resultados em um dicionário\n",
        "results_df = pd.DataFrame(results).T  # Convertendo o dicionário para um DataFrame\n",
        "results_df['Teste de normalidade'] = results_df['p_value'].apply(lambda p: 'Normal' if p > 0.05 else 'Não normal') # Classificando o valor de p\n",
        "print(results_df)"
      ],
      "metadata": {
        "colab": {
          "base_uri": "https://localhost:8080/"
        },
        "id": "taEcSPvrxf3S",
        "outputId": "4f8f23c3-75a9-49d3-af1e-d9f2281c7711"
      },
      "execution_count": 18,
      "outputs": [
        {
          "output_type": "stream",
          "name": "stdout",
          "text": [
            "                            Statistic   p_value Teste de normalidade\n",
            "tempo-50m-cap-aquec          0.849573  0.042133           Não normal\n",
            "tempo-50m-plac-aquec         0.820893  0.016351           Não normal\n",
            "tempo-50m-cap-nnaquec        0.863621  0.043013           Não normal\n",
            "tempo-50m-plac-nnaquec       0.873027  0.057426               Normal\n",
            "tempo-15m-cap-aquec          0.716168  0.000756           Não normal\n",
            "tempo-15m-plac-aquec         0.752083  0.002810           Não normal\n",
            "tempo-15m-cap-nnaquec        0.816488  0.010774           Não normal\n",
            "tempo-15m-plac-nnaquec       0.827285  0.014648           Não normal\n",
            "tempo-35m-cap-aquec          0.806049  0.011300           Não normal\n",
            "tempo-35m-plac-aquec         0.816227  0.014414           Não normal\n",
            "tempo-35m-cap-nnaquec        0.834840  0.018226           Não normal\n",
            "tempo-35m-plac-nnaquec       0.836757  0.019274           Não normal\n",
            "lac-pre-cap-aquec            0.917092  0.295163               Normal\n",
            "lac-pre-plac-aquec           0.962464  0.818340               Normal\n",
            "lac-pre-cap-nnaquec          0.929528  0.336008               Normal\n",
            "lac-pre-plac-nnaquec         0.847987  0.026844           Não normal\n",
            "lac-pos-1min-cap-aquec       0.925735  0.369337               Normal\n",
            "lac-pos-1min-plac-aquec      0.932405  0.406298               Normal\n",
            "lac-pos-1min-cap-nnaquec     0.913349  0.203765               Normal\n",
            "lac-pos-1min-plac-nnaquec    0.946279  0.543123               Normal\n",
            "lac-pos-3min-cap-aquec       0.890040  0.139229               Normal\n",
            "lac-pos-3min-plac-aquec      0.939329  0.489432               Normal\n",
            "lac-pos-3min-cap-nnaquec     0.979460  0.976801               Normal\n",
            "lac-pos-3min-plac-nnaquec    0.977388  0.964341               Normal\n",
            "pse-cap-aquec                0.794841  0.008046           Não normal\n",
            "pse-plac-aquec               0.768341  0.004182           Não normal\n",
            "pse-cap-nnaquec              0.812249  0.009565           Não normal\n",
            "pse-plac-nnaquec             0.645704  0.000167           Não normal\n",
            "altura-salto1-cap-aquec      0.974218  0.925641               Normal\n",
            "altura-salto2-cap-aquec      0.937085  0.486854               Normal\n",
            "altura-salto3-cap-aquec      0.936340  0.478472               Normal\n",
            "media-salto-cap-aquec        0.952434  0.675173               Normal\n",
            "altura-salto1-plac-aquec     0.948338  0.612824               Normal\n",
            "altura-salto2-plac-aquec     0.952261  0.670235               Normal\n",
            "altura-salto3-plac-aquec     0.920180  0.287404               Normal\n",
            "media-salto-plac-aquec       0.956555  0.733759               Normal\n",
            "altura-salto1-cap-nnaquec    0.930274  0.343641               Normal\n",
            "altura-salto2-cap-nnaquec    0.941014  0.470169               Normal\n",
            "altura-salto3-cap-nnaquec    0.946747  0.549908               Normal\n",
            "media-salto-cap-nnaquec      0.923468  0.279275               Normal\n",
            "altura-salto1-plac-nnaquec   0.975585  0.950848               Normal\n",
            "altura-salto2-plac-nnaquec   0.955335  0.680816               Normal\n",
            "altura-salto3-plac-nnaquec   0.989935  0.999649               Normal\n",
            "media-salto-plac-nnaquec     0.962579  0.792927               Normal\n",
            "motivacao-cap-aquec          0.919631  0.315581               Normal\n",
            "motivacao-plac-aquec         0.920723  0.291960               Normal\n",
            "motivacao-cap-nnaquec        0.908894  0.177104               Normal\n",
            "motivacao-plac-nnaquec       0.953280  0.648710               Normal\n",
            "preparacao-cap-aquec         0.928702  0.397871               Normal\n",
            "preparacao-plac-aquec        0.880112  0.087937               Normal\n",
            "preparacao-cap-nnaquec       0.882566  0.077259               Normal\n",
            "preparacao-plac-nnaquec      0.847091  0.026138           Não normal\n",
            "brums-vigor-cap-aquec        0.943310  0.560154               Normal\n",
            "brums-vigor-plac-aquec       0.933749  0.421551               Normal\n",
            "brums-vigor-cap-nnaquec      0.951745  0.624950               Normal\n",
            "brums-vigor-plac-nnaquec     0.907429  0.169102               Normal\n",
            "brums-fadiga-cap-aquec       0.837103  0.028937           Não normal\n",
            "brums-fadiga-plac-aquec      0.897540  0.147433               Normal\n",
            "brums-fadiga-cap-nnaquec     0.932921  0.371943               Normal\n",
            "brums-fadiga-plac-nnaquec    0.945252  0.528386               Normal\n"
          ]
        }
      ]
    },
    {
      "cell_type": "markdown",
      "source": [],
      "metadata": {
        "id": "qxNp1GKz3690"
      }
    },
    {
      "cell_type": "markdown",
      "source": [
        "### Teste de Hipótese\n",
        "\n",
        "1. Para variáveis com distribuição normal, foi realizado o teste **t de Student**.\n",
        "2. Para variáveis com distribuição não normal, foi adotado o teste **de Wilcoxon**.\n",
        "3. Para todos os testes, a hipótese nula (H0) foi rejeitada se \\( p < 0,05 \\)."
      ],
      "metadata": {
        "id": "GDxT63TN4AQQ"
      }
    },
    {
      "cell_type": "markdown",
      "source": [
        "## Teste t de Student\n",
        "\n",
        "\n",
        "1.   Lactato-pré\n",
        "2.   Lactato-pós\n",
        "3.   Salto com contramovimento\n",
        "4.   Motivação\n",
        "5.   Preparação\n",
        "6.   Brums\n",
        "\n"
      ],
      "metadata": {
        "id": "VyvjUkCz5nG6"
      }
    },
    {
      "cell_type": "code",
      "source": [
        "# Lactato pré sem aquecimento\n",
        "\n",
        "\n",
        "lac_pre_cap_nnaquec = df['lac-pre-cap-nnaquec']\n",
        "lac_pre_plc_nnaquec = df['lac-pre-plac-nnaquec']\n",
        "stat, p = ttest_ind(lac_pre_cap_nnaquec.dropna(), lac_pre_plc_nnaquec.dropna())  # Remover valores NaN antes do teste\n",
        "if p < 0.05:# Classificar o valor de p\n",
        "    classification = 'Diferença Significativa'\n",
        "else:\n",
        "    classification = 'Diferença Não Significativa'\n",
        "print(f'T-statistic: {stat}')# Imprimir os resultados\n",
        "print(f'P-value: {p}')\n",
        "print(f'Classificação: {classification}')"
      ],
      "metadata": {
        "colab": {
          "base_uri": "https://localhost:8080/"
        },
        "id": "fbMkwONa00PP",
        "outputId": "fab049e9-eb80-43d2-e0ad-6b4e71c36ab9"
      },
      "execution_count": 22,
      "outputs": [
        {
          "output_type": "stream",
          "name": "stdout",
          "text": [
            "T-statistic: -0.4901005112895226\n",
            "P-value: 0.6285132686837166\n",
            "Classificação: Diferença Não Significativa\n"
          ]
        }
      ]
    },
    {
      "cell_type": "code",
      "source": [
        "# Lactato pré com aquecimento\n",
        "\n",
        "\n",
        "lac_pre_cap_aquec = df['lac-pre-cap-aquec']\n",
        "lac_pre_plc_aquec = df['lac-pre-plac-aquec']\n",
        "stat, p = ttest_ind(lac_pre_cap_aquec.dropna(), lac_pre_plc_aquec.dropna())  # Remover valores NaN antes do teste\n",
        "if p < 0.05:# Classificar o valor de p\n",
        "    classification = 'Diferença Significativa'\n",
        "else:\n",
        "    classification = 'Diferença Não Significativa'\n",
        "print(f'T-statistic: {stat}')# Imprimir os resultados\n",
        "print(f'P-value: {p}')\n",
        "print(f'Classificação: {classification}')"
      ],
      "metadata": {
        "colab": {
          "base_uri": "https://localhost:8080/"
        },
        "id": "jHfZ6kbt4uwz",
        "outputId": "44dae0a3-bcc8-42ca-df5e-200b96e15875"
      },
      "execution_count": 24,
      "outputs": [
        {
          "output_type": "stream",
          "name": "stdout",
          "text": [
            "T-statistic: 0.24773848042196236\n",
            "P-value: 0.8067429826140613\n",
            "Classificação: Diferença Não Significativa\n"
          ]
        }
      ]
    },
    {
      "cell_type": "code",
      "source": [
        "# Lactato pós-1min sem aquecimento\n",
        "\n",
        "\n",
        "lac_pos_1min_cap_nnaquec = df['lac-pos-1min-cap-nnaquec']\n",
        "lac_pos_1min_plc_nnaquec = df['lac-pos-1min-plac-nnaquec']\n",
        "stat, p = ttest_ind(lac_pos_1min_cap_nnaquec.dropna(), lac_pos_1min_plc_nnaquec.dropna())  # Remover valores NaN antes do teste\n",
        "if p < 0.05:# Classificar o valor de p\n",
        "    classification = 'Diferença Significativa'\n",
        "else:\n",
        "    classification = 'Diferença Não Significativa'\n",
        "print(f'T-statistic: {stat}')# Imprimir os resultados\n",
        "print(f'P-value: {p}')\n",
        "print(f'Classificação: {classification}')"
      ],
      "metadata": {
        "colab": {
          "base_uri": "https://localhost:8080/"
        },
        "id": "IJooT5yY_bEQ",
        "outputId": "e9142c07-7a7d-4dd5-c253-cf09f06ca8c0"
      },
      "execution_count": 25,
      "outputs": [
        {
          "output_type": "stream",
          "name": "stdout",
          "text": [
            "T-statistic: -0.7793858586497938\n",
            "P-value: 0.4433705382660784\n",
            "Classificação: Diferença Não Significativa\n"
          ]
        }
      ]
    },
    {
      "cell_type": "markdown",
      "source": [],
      "metadata": {
        "id": "2P5laEuVFKEQ"
      }
    },
    {
      "cell_type": "code",
      "source": [
        "# Lactato pós-1min com aquecimento\n",
        "\n",
        "\n",
        "lac_pos_1min_cap_aquec = df['lac-pos-1min-cap-aquec']\n",
        "lac_pos_1min_plc_aquec = df['lac-pos-1min-plac-aquec']\n",
        "stat, p = ttest_ind(lac_pos_1min_cap_aquec.dropna(), lac_pos_1min_plc_aquec.dropna())  # Remover valores NaN antes do teste\n",
        "if p < 0.05:# Classificar o valor de p\n",
        "    classification = 'Diferença Significativa'\n",
        "else:\n",
        "    classification = 'Diferença Não Significativa'\n",
        "print(f'T-statistic: {stat}')# Imprimir os resultados\n",
        "print(f'P-value: {p}')\n",
        "print(f'Classificação: {classification}')"
      ],
      "metadata": {
        "colab": {
          "base_uri": "https://localhost:8080/"
        },
        "id": "ta2hmsDSA0tR",
        "outputId": "86c57b8d-f0cf-441c-bfb3-1a5ee2d194ad"
      },
      "execution_count": 26,
      "outputs": [
        {
          "output_type": "stream",
          "name": "stdout",
          "text": [
            "T-statistic: -0.4323741579374798\n",
            "P-value: 0.6698770318880392\n",
            "Classificação: Diferença Não Significativa\n"
          ]
        }
      ]
    },
    {
      "cell_type": "code",
      "source": [
        "# Lactato pós-3min sem aquecimento\n",
        "\n",
        "\n",
        "lac_pos_3min_cap_nnaquec = df['lac-pos-3min-cap-nnaquec']\n",
        "lac_pos_3min_plc_nnaquec = df['lac-pos-3min-plac-nnaquec']\n",
        "stat, p = ttest_ind(lac_pos_3min_cap_nnaquec.dropna(), lac_pos_3min_plc_nnaquec.dropna())  # Remover valores NaN antes do teste\n",
        "if p < 0.05:# Classificar o valor de p\n",
        "    classification = 'Diferença Significativa'\n",
        "else:\n",
        "    classification = 'Diferença Não Significativa'\n",
        "print(f'T-statistic: {stat}')# Imprimir os resultados\n",
        "print(f'P-value: {p}')\n",
        "print(f'Classificação: {classification}')"
      ],
      "metadata": {
        "colab": {
          "base_uri": "https://localhost:8080/"
        },
        "id": "dmBd4jPoBAuU",
        "outputId": "9660fca5-1a4f-40bb-da5c-698c84720459"
      },
      "execution_count": 27,
      "outputs": [
        {
          "output_type": "stream",
          "name": "stdout",
          "text": [
            "T-statistic: 0.6174425603895833\n",
            "P-value: 0.542757347987449\n",
            "Classificação: Diferença Não Significativa\n"
          ]
        }
      ]
    },
    {
      "cell_type": "code",
      "source": [
        "# Lactato pós-3min com aquecimento\n",
        "\n",
        "\n",
        "lac_pos_3min_cap_aquec = df['lac-pos-3min-cap-aquec']\n",
        "lac_pos_3min_plc_aquec = df['lac-pos-3min-plac-aquec']\n",
        "stat, p = ttest_ind(lac_pos_3min_cap_aquec.dropna(), lac_pos_3min_plc_aquec.dropna())  # Remover valores NaN antes do teste\n",
        "if p < 0.05:# Classificar o valor de p\n",
        "    classification = 'Diferença Significativa'\n",
        "else:\n",
        "    classification = 'Diferença Não Significativa'\n",
        "print(f'T-statistic: {stat}')# Imprimir os resultados\n",
        "print(f'P-value: {p}')\n",
        "print(f'Classificação: {classification}')"
      ],
      "metadata": {
        "colab": {
          "base_uri": "https://localhost:8080/"
        },
        "id": "nxwgynNXBJVR",
        "outputId": "5fb6e2e0-1ea3-4001-dfa3-24931e6b1d42"
      },
      "execution_count": 56,
      "outputs": [
        {
          "output_type": "stream",
          "name": "stdout",
          "text": [
            "T-statistic: -0.07113748383770066\n",
            "P-value: 0.943961466148548\n",
            "Classificação: Diferença Não Significativa\n"
          ]
        }
      ]
    },
    {
      "cell_type": "code",
      "source": [
        "# Salto com contramovimento sem aquecimento\n",
        "\n",
        "\n",
        "media_saltos_cap_nnaquec = df['media-salto-cap-nnaquec']\n",
        "media_saltos_plc_nnaquec = df['media-salto-plac-nnaquec']\n",
        "stat, p = ttest_ind(media_saltos_cap_nnaquec.dropna(), media_saltos_plc_nnaquec.dropna())  # Remover valores NaN antes do teste\n",
        "if p < 0.05:# Classificar o valor de p\n",
        "    classification = 'Diferença Significativa'\n",
        "else:\n",
        "    classification = 'Diferença Não Significativa'\n",
        "print(f'T-statistic: {stat}')# Imprimir os resultados\n",
        "print(f'P-value: {p}')\n",
        "print(f'Classificação: {classification}')"
      ],
      "metadata": {
        "colab": {
          "base_uri": "https://localhost:8080/"
        },
        "id": "srZQqmdmBWQ1",
        "outputId": "3d4518a5-58a7-460f-f097-beb0b137e2ee"
      },
      "execution_count": 29,
      "outputs": [
        {
          "output_type": "stream",
          "name": "stdout",
          "text": [
            "T-statistic: -0.32922433230735665\n",
            "P-value: 0.7448420108140945\n",
            "Classificação: Diferença Não Significativa\n"
          ]
        }
      ]
    },
    {
      "cell_type": "code",
      "source": [
        "# Salto com contramovimento com aquecimento\n",
        "\n",
        "\n",
        "media_saltos_cap_aquec = df['media-salto-cap-aquec']\n",
        "media_saltos_plc_aquec = df['media-salto-plac-aquec']\n",
        "stat, p = ttest_ind(media_saltos_cap_aquec.dropna(), media_saltos_plc_aquec.dropna())  # Remover valores NaN antes do teste\n",
        "if p < 0.05:# Classificar o valor de p\n",
        "    classification = 'Diferença Significativa'\n",
        "else:\n",
        "    classification = 'Diferença Não Significativa'\n",
        "print(f'T-statistic: {stat}')# Imprimir os resultados\n",
        "print(f'P-value: {p}')\n",
        "print(f'Classificação: {classification}')"
      ],
      "metadata": {
        "colab": {
          "base_uri": "https://localhost:8080/"
        },
        "id": "PfV78dzJCTki",
        "outputId": "33a4b064-2b7d-4d87-897e-1e4c3bcb9b4a"
      },
      "execution_count": 30,
      "outputs": [
        {
          "output_type": "stream",
          "name": "stdout",
          "text": [
            "T-statistic: 0.41456081767374814\n",
            "P-value: 0.682667648863047\n",
            "Classificação: Diferença Não Significativa\n"
          ]
        }
      ]
    },
    {
      "cell_type": "code",
      "source": [
        "# Motivação sem aquecimento\n",
        "\n",
        "\n",
        "motivacao_cap_nnaquec = df['motivacao-cap-nnaquec']\n",
        "motivação_plc_nnaquec = df['motivacao-plac-nnaquec']\n",
        "stat, p = ttest_ind(motivação_plc_nnaquec.dropna(), motivacao_cap_nnaquec.dropna())  # Remover valores NaN antes do teste\n",
        "if p < 0.05:# Classificar o valor de p\n",
        "    classification = 'Diferença Significativa'\n",
        "else:\n",
        "    classification = 'Diferença Não Significativa'\n",
        "print(f'T-statistic: {stat}')# Imprimir os resultados\n",
        "print(f'P-value: {p}')\n",
        "print(f'Classificação: {classification}')"
      ],
      "metadata": {
        "colab": {
          "base_uri": "https://localhost:8080/"
        },
        "id": "cowFRs2PCbf-",
        "outputId": "42bce9ad-8c9f-44dd-8bea-15df7fbd998f"
      },
      "execution_count": 34,
      "outputs": [
        {
          "output_type": "stream",
          "name": "stdout",
          "text": [
            "T-statistic: 0.4808001474105773\n",
            "P-value: 0.6350126294670297\n",
            "Classificação: Diferença Não Significativa\n"
          ]
        }
      ]
    },
    {
      "cell_type": "code",
      "source": [
        "# Motivação com aquecimento\n",
        "\n",
        "\n",
        "motivacao_cap_aquec = df['motivacao-cap-aquec']\n",
        "motivação_plc_aquec = df['motivacao-plac-aquec']\n",
        "stat, p = ttest_ind(motivação_plc_aquec.dropna(), motivacao_cap_aquec.dropna())  # Remover valores NaN antes do teste\n",
        "if p < 0.05:# Classificar o valor de p\n",
        "    classification = 'Diferença Significativa'\n",
        "else:\n",
        "    classification = 'Diferença Não Significativa'\n",
        "print(f'T-statistic: {stat}')# Imprimir os resultados\n",
        "print(f'P-value: {p}')\n",
        "print(f'Classificação: {classification}')"
      ],
      "metadata": {
        "colab": {
          "base_uri": "https://localhost:8080/"
        },
        "id": "C5nOsQb6C78k",
        "outputId": "94e491b7-51db-42c5-9f6e-92aab45ec635"
      },
      "execution_count": 35,
      "outputs": [
        {
          "output_type": "stream",
          "name": "stdout",
          "text": [
            "T-statistic: -0.7128952784706286\n",
            "P-value: 0.4837576296037417\n",
            "Classificação: Diferença Não Significativa\n"
          ]
        }
      ]
    },
    {
      "cell_type": "code",
      "source": [
        "# Preparação sem aquecimento\n",
        "\n",
        "\n",
        "preparacao_cap_nnaquec = df['preparacao-cap-nnaquec']\n",
        "preparacao_plc_nnaquec = df['preparacao-plac-nnaquec']\n",
        "stat, p = ttest_ind(preparacao_plc_nnaquec.dropna(), preparacao_cap_nnaquec.dropna())  # Remover valores NaN antes do teste\n",
        "if p < 0.05:# Classificar o valor de p\n",
        "    classification = 'Diferença Significativa'\n",
        "else:\n",
        "    classification = 'Diferença Não Significativa'\n",
        "print(f'T-statistic: {stat}')# Imprimir os resultados\n",
        "print(f'P-value: {p}')\n",
        "print(f'Classificação: {classification}')"
      ],
      "metadata": {
        "colab": {
          "base_uri": "https://localhost:8080/"
        },
        "id": "H5Btx1MVDDog",
        "outputId": "b4be3801-3608-4697-cc0c-f5908f64d6b1"
      },
      "execution_count": 36,
      "outputs": [
        {
          "output_type": "stream",
          "name": "stdout",
          "text": [
            "T-statistic: 0.2878326252219926\n",
            "P-value: 0.7759457922160259\n",
            "Classificação: Diferença Não Significativa\n"
          ]
        }
      ]
    },
    {
      "cell_type": "code",
      "source": [
        "# Brums fadiga sem aquecimento\n",
        "\n",
        "\n",
        "brums_fadiga_cap_nnaquec = df['brums-fadiga-cap-nnaquec']\n",
        "brums_fadiga_plc_nnaquec = df['brums-fadiga-plac-nnaquec']\n",
        "stat, p = ttest_ind(brums_fadiga_cap_nnaquec.dropna(), brums_fadiga_plc_nnaquec.dropna())  # Remover valores NaN antes do teste\n",
        "if p < 0.05:# Classificar o valor de p\n",
        "    classification = 'Diferença Significativa'\n",
        "else:\n",
        "    classification = 'Diferença Não Significativa'\n",
        "print(f'T-statistic: {stat}')# Imprimir os resultados\n",
        "print(f'P-value: {p}')\n",
        "print(f'Classificação: {classification}')"
      ],
      "metadata": {
        "colab": {
          "base_uri": "https://localhost:8080/"
        },
        "id": "OLxV3krADgnN",
        "outputId": "54b77ef7-f276-4217-91f0-97f9973911e8"
      },
      "execution_count": 37,
      "outputs": [
        {
          "output_type": "stream",
          "name": "stdout",
          "text": [
            "T-statistic: 0.3971464740979233\n",
            "P-value: 0.6947693277267137\n",
            "Classificação: Diferença Não Significativa\n"
          ]
        }
      ]
    },
    {
      "cell_type": "code",
      "source": [
        "# Brums fadiga com aquecimento\n",
        "\n",
        "\n",
        "brums_fadiga_cap_aquec = df['brums-fadiga-cap-aquec']\n",
        "brums_fadiga_plc_aquec = df['brums-fadiga-plac-aquec']\n",
        "stat, p = ttest_ind(brums_fadiga_cap_aquec.dropna(), brums_fadiga_plc_aquec.dropna())  # Remover valores NaN antes do teste\n",
        "if p < 0.05:# Classificar o valor de p\n",
        "    classification = 'Diferença Significativa'\n",
        "else:\n",
        "    classification = 'Diferença Não Significativa'\n",
        "print(f'T-statistic: {stat}')# Imprimir os resultados\n",
        "print(f'P-value: {p}')\n",
        "print(f'Classificação: {classification}')"
      ],
      "metadata": {
        "colab": {
          "base_uri": "https://localhost:8080/"
        },
        "id": "j3r_gnv4EAju",
        "outputId": "623d0b76-f640-419e-f0ca-29925c7d381e"
      },
      "execution_count": 38,
      "outputs": [
        {
          "output_type": "stream",
          "name": "stdout",
          "text": [
            "T-statistic: -1.247148908813732\n",
            "P-value: 0.22607333194791124\n",
            "Classificação: Diferença Não Significativa\n"
          ]
        }
      ]
    },
    {
      "cell_type": "code",
      "source": [
        "# Brums vigor sem aquecimento\n",
        "\n",
        "\n",
        "brums_vigor_cap_nnaquec = df['brums-vigor-cap-nnaquec']\n",
        "brums_vigor_plc_nnaquec = df['brums-vigor-plac-nnaquec']\n",
        "stat, p = ttest_ind(brums_vigor_cap_nnaquec.dropna(), brums_vigor_plc_nnaquec.dropna())  # Remover valores NaN antes do teste\n",
        "if p < 0.05:# Classificar o valor de p\n",
        "    classification = 'Diferença Significativa'\n",
        "else:\n",
        "    classification = 'Diferença Não Significativa'\n",
        "print(f'T-statistic: {stat}')# Imprimir os resultados\n",
        "print(f'P-value: {p}')\n",
        "print(f'Classificação: {classification}')"
      ],
      "metadata": {
        "colab": {
          "base_uri": "https://localhost:8080/"
        },
        "id": "31AnAyVjEGub",
        "outputId": "b47a29e5-5c30-43b4-b9ea-960833f3f82a"
      },
      "execution_count": 39,
      "outputs": [
        {
          "output_type": "stream",
          "name": "stdout",
          "text": [
            "T-statistic: -0.341792963512332\n",
            "P-value: 0.7354814794669027\n",
            "Classificação: Diferença Não Significativa\n"
          ]
        }
      ]
    },
    {
      "cell_type": "markdown",
      "source": [
        "## Teste de Wilcoxon\n",
        "\n",
        "1. Tempo 50 metros\n",
        "2. Tempo 15 metros\n",
        "3. Tempo 35 metros\n",
        "4. PSE"
      ],
      "metadata": {
        "id": "f3XYtFOxgD00"
      }
    },
    {
      "cell_type": "code",
      "source": [
        "# Tempo de 50 metros sem aquecimento\n",
        "tempo_50m_cap_nnaquec = df['tempo-50m-cap-nnaquec']\n",
        "tempo_50m_plc_nnaquec = df['tempo-50m-plac-nnaquec']\n",
        "tempo_50m_cap_nnaquec = tempo_50m_cap_nnaquec.dropna()# Remover valores NaN\n",
        "tempo_50m_plc_nnaquec = tempo_50m_plc_nnaquec.dropna()\n",
        "\n",
        "min_length = min(len(tempo_50m_cap_nnaquec), len(tempo_50m_plc_nnaquec)) # Verifica o comprimento mininmo\n",
        "tempo_50m_cap_aquec = tempo_50m_cap_nnaquec[:min_length] # Ajusta o comprimento da coluna de acordo com o valor anterior\n",
        "tempo_50m_plc_aquec = tempo_50m_plc_nnaquec[:min_length] # Ajusta o comprimento da coluna de acordo com o valor anterior\n",
        "\n",
        "res = wilcoxon(tempo_50m_cap_aquec, tempo_50m_plc_aquec)\n",
        "if res.pvalue < 0.05:\n",
        "    classification = 'Diferença Significativa'\n",
        "else:\n",
        "    classification = 'Diferença Não Significativa'\n",
        "\n",
        "# Retornar os resultados em um dicionário\n",
        "\n",
        "result = { # Added a variable to store the results\n",
        "    'Estatística W': res.statistic,\n",
        "    'P-value': res.pvalue,\n",
        "    'Classificação': classification\n",
        "}"
      ],
      "metadata": {
        "colab": {
          "base_uri": "https://localhost:8080/"
        },
        "id": "ICgzkHQWEhGn",
        "outputId": "6313b78a-119e-478a-a8ae-b5b0f214781e"
      },
      "execution_count": 50,
      "outputs": [
        {
          "output_type": "stream",
          "name": "stderr",
          "text": [
            "/usr/local/lib/python3.10/dist-packages/scipy/stats/_morestats.py:4088: UserWarning: Exact p-value calculation does not work if there are zeros. Switching to normal approximation.\n",
            "  warnings.warn(\"Exact p-value calculation does not work if there are \"\n"
          ]
        }
      ]
    },
    {
      "cell_type": "code",
      "source": [
        "# Tempo 50 metros com aquecimento\n",
        "tempo_50m_cap_aquec = df['tempo-50m-cap-aquec']\n",
        "tempo_50m_plc_aquec = df['tempo-50m-plac-aquec']\n",
        "tempo_50m_cap_aquec = tempo_50m_cap_aquec.dropna()# Remover valores NaN\n",
        "tempo_50m_plc_aquec = tempo_50m_plc_aquec.dropna()\n",
        "\n",
        "min_length = min(len(tempo_50m_cap_aquec), len(tempo_50m_plc_aquec)) # Verifica o comprimento mininmo\n",
        "tempo_50m_cap_aquec = tempo_50m_cap_aquec[:min_length] # Ajusta o comprimento da coluna de acordo com o valor anterior\n",
        "tempo_50m_plc_aquec = tempo_50m_plc_aquec[:min_length] # Ajusta o comprimento da coluna de acordo com o valor anterior\n",
        "\n",
        "res = wilcoxon(tempo_50m_cap_aquec, tempo_50m_plc_aquec)\n",
        "if res.pvalue < 0.05:\n",
        "    classification = 'Diferença Significativa'\n",
        "else:\n",
        "    classification = 'Diferença Não Significativa'\n",
        "\n",
        "# Retornar os resultados em um dicionário\n",
        "\n",
        "result = { # Added a variable to store the results\n",
        "    'Estatística W': res.statistic,\n",
        "    'P-value': res.pvalue,\n",
        "    'Classificação': classification\n",
        "}\n",
        "print(result) # Print the result"
      ],
      "metadata": {
        "colab": {
          "base_uri": "https://localhost:8080/"
        },
        "id": "oReci4YPiXYu",
        "outputId": "e1222a7b-e123-4114-bea6-e2dbc1392ad9"
      },
      "execution_count": 55,
      "outputs": [
        {
          "output_type": "stream",
          "name": "stdout",
          "text": [
            "{'Estatística W': 32.0, 'P-value': 0.9658203125, 'Classificação': 'Diferença Não Significativa'}\n"
          ]
        }
      ]
    },
    {
      "cell_type": "code",
      "source": [
        "# Tempo de 15 metros com aquecimento\n",
        "\n",
        "tempo_15m_cap_aquec = df['tempo-15m-cap-aquec']\n",
        "tempo_15m_plc_aquec = df['tempo-15m-plac-aquec']\n",
        "tempo_15m_cap_aquec = tempo_15m_cap_aquec.dropna()# Remover valores NaN\n",
        "tempo_15m_plc_aquec = tempo_15m_plc_aquec.dropna()\n",
        "\n",
        "min_length = min(len(tempo_15m_cap_aquec), len(tempo_15m_plc_aquec)) # Verifica o comprimento mininmo\n",
        "tempo_15m_cap_aquec = tempo_15m_cap_aquec[:min_length] # Ajusta o comprimento da coluna de acordo com o valor anterior\n",
        "tempo_15m_plc_aquec = tempo_15m_plc_aquec[:min_length] # Ajusta o comprimento da coluna de acordo com o valor anterior\n",
        "\n",
        "res = wilcoxon(tempo_15m_cap_aquec, tempo_15m_plc_aquec)\n",
        "if res.pvalue < 0.05:\n",
        "    classification = 'Diferença Significativa'\n",
        "else:\n",
        "    classification = 'Diferença Não Significativa'\n",
        "\n",
        "# Retornar os resultados em um dicionário\n",
        "\n",
        "result = { # Added a variable to store the results\n",
        "    'Estatística W': res.statistic,\n",
        "    'P-value': res.pvalue,\n",
        "    'Classificação': classification\n",
        "}\n",
        "print(result) # Print the result"
      ],
      "metadata": {
        "colab": {
          "base_uri": "https://localhost:8080/"
        },
        "id": "-V_3w8AioJ6E",
        "outputId": "9000d5f4-f9d3-4883-ca10-b50498abf067"
      },
      "execution_count": 51,
      "outputs": [
        {
          "output_type": "stream",
          "name": "stdout",
          "text": [
            "{'Estatística W': 17.5, 'P-value': 0.1748046875, 'Classificação': 'Diferença Não Significativa'}\n"
          ]
        }
      ]
    },
    {
      "cell_type": "code",
      "source": [
        "# Tempo de 15 metros sem aquecimrento\n",
        "\n",
        "tempo_15m_cap_nnaquec = df['tempo-15m-cap-nnaquec']\n",
        "tempo_15m_plc_nnaquec = df['tempo-15m-plac-nnaquec']\n",
        "tempo_15m_cap_nnaquec = tempo_15m_cap_nnaquec.dropna()# Remover valores NaN\n",
        "tempo_15m_plc_nnaquec = tempo_15m_plc_nnaquec.dropna()\n",
        "\n",
        "min_length = min(len(tempo_15m_cap_nnaquec), len(tempo_15m_plc_nnaquec)) # Verifica o comprimento mininmo\n",
        "tempo_15m_cap_aquec = tempo_15m_cap_nnaquec[:min_length] # Ajusta o comprimento da coluna de acordo com o valor anterior\n",
        "tempo_15m_plc_aquec = tempo_15m_plc_nnaquec[:min_length] # Ajusta o comprimento da coluna de acordo com o valor anterior\n",
        "\n",
        "res = wilcoxon(tempo_15m_cap_nnaquec, tempo_15m_plc_nnaquec)\n",
        "if res.pvalue < 0.05:\n",
        "    classification = 'Diferença Significativa'\n",
        "else:\n",
        "    classification = 'Diferença Não Significativa'\n",
        "\n",
        "# Retornar os resultados em um dicionário\n",
        "\n",
        "result = { # Added a variable to store the results\n",
        "    'Estatística W': res.statistic,\n",
        "    'P-value': res.pvalue,\n",
        "    'Classificação': classification\n",
        "}\n",
        "print(result) # Print the result"
      ],
      "metadata": {
        "colab": {
          "base_uri": "https://localhost:8080/"
        },
        "id": "GoGHr6MSqoS8",
        "outputId": "d9b3e2ed-53a5-4ebc-de04-cc3de6012168"
      },
      "execution_count": 52,
      "outputs": [
        {
          "output_type": "stream",
          "name": "stdout",
          "text": [
            "{'Estatística W': 20.0, 'P-value': 0.13549452694664516, 'Classificação': 'Diferença Não Significativa'}\n"
          ]
        },
        {
          "output_type": "stream",
          "name": "stderr",
          "text": [
            "/usr/local/lib/python3.10/dist-packages/scipy/stats/_morestats.py:4088: UserWarning: Exact p-value calculation does not work if there are zeros. Switching to normal approximation.\n",
            "  warnings.warn(\"Exact p-value calculation does not work if there are \"\n"
          ]
        }
      ]
    },
    {
      "cell_type": "code",
      "source": [
        "# Tempo de 25 metros com aquecimento\n",
        "\n",
        "tempo_35m_cap_aquec = df['tempo-35m-cap-aquec']\n",
        "tempo_35m_plc_aquec = df['tempo-35m-plac-aquec']\n",
        "tempo_35m_cap_aquec = tempo_35m_cap_aquec.dropna()# Remover valores NaN\n",
        "tempo_35m_plc_aquec = tempo_35m_plc_aquec.dropna()\n",
        "\n",
        "min_length = min(len(tempo_35m_cap_aquec), len(tempo_35m_plc_aquec)) # Verifica o comprimento mininmo\n",
        "tempo_35m_cap_aquec = tempo_35m_cap_aquec[:min_length] # Ajusta o comprimento da coluna de acordo com o valor anterior\n",
        "tempo_35m_plc_aquec = tempo_35m_plc_aquec[:min_length] # Ajusta o comprimento da coluna de acordo com o valor anterior\n",
        "\n",
        "res = wilcoxon(tempo_35m_cap_aquec, tempo_35m_plc_aquec)\n",
        "if res.pvalue < 0.05:\n",
        "    classification = 'Diferença Significativa'\n",
        "else:\n",
        "    classification = 'Diferença Não Significativa'\n",
        "\n",
        "# Retornar os resultados em um dicionário\n",
        "\n",
        "result = { # Added a variable to store the results\n",
        "    'Estatística W': res.statistic,\n",
        "    'P-value': res.pvalue,\n",
        "    'Classificação': classification\n",
        "}\n",
        "print(result) # Print the result"
      ],
      "metadata": {
        "colab": {
          "base_uri": "https://localhost:8080/"
        },
        "id": "Xx-_N4m7q292",
        "outputId": "32d23022-fbd2-48bf-9116-edf7ca1c048a"
      },
      "execution_count": 53,
      "outputs": [
        {
          "output_type": "stream",
          "name": "stdout",
          "text": [
            "{'Estatística W': 26.0, 'P-value': 0.5771484375, 'Classificação': 'Diferença Não Significativa'}\n"
          ]
        }
      ]
    },
    {
      "cell_type": "code",
      "source": [
        "# Tempo de 35 metros sem aquecimento\n",
        "\n",
        "tempo_35m_cap_nnaquec = df['tempo-35m-cap-nnaquec']\n",
        "tempo_35m_plc_nnaquec = df['tempo-35m-plac-nnaquec']\n",
        "tempo_35m_cap_nnaquec = tempo_35m_cap_nnaquec.dropna()# Remover valores NaN\n",
        "tempo_35m_plc_nnaquec = tempo_35m_plc_nnaquec.dropna()\n",
        "\n",
        "min_length = min(len(tempo_35m_cap_nnaquec), len(tempo_35m_plc_nnaquec)) # Verifica o comprimento mininmo\n",
        "tempo_35m_cap_nnaquec = tempo_35m_cap_nnaquec[:min_length] # Ajusta o comprimento da coluna de acordo com o valor anterior\n",
        "tempo_35m_plc_nnaquec = tempo_35m_plc_nnaquec[:min_length] # Ajusta o comprimento da coluna de acordo com o valor anterior\n",
        "\n",
        "res = wilcoxon(tempo_35m_cap_nnaquec, tempo_35m_plc_nnaquec)\n",
        "if res.pvalue < 0.05:\n",
        "    classification = 'Diferença Significativa'\n",
        "else:\n",
        "    classification = 'Diferença Não Significativa'\n",
        "\n",
        "# Retornar os resultados em um dicionário\n",
        "\n",
        "result = { # Added a variable to store the results\n",
        "    'Estatística W': res.statistic,\n",
        "    'P-value': res.pvalue,\n",
        "    'Classificação': classification\n",
        "}\n",
        "print(result) # Print the result"
      ],
      "metadata": {
        "colab": {
          "base_uri": "https://localhost:8080/"
        },
        "id": "xBaw3PjTrI6Q",
        "outputId": "6e4f2af2-b028-4b73-90dc-4b21e7a0383e"
      },
      "execution_count": 54,
      "outputs": [
        {
          "output_type": "stream",
          "name": "stdout",
          "text": [
            "{'Estatística W': 8.0, 'P-value': 0.16142946236708333, 'Classificação': 'Diferença Não Significativa'}\n"
          ]
        },
        {
          "output_type": "stream",
          "name": "stderr",
          "text": [
            "/usr/local/lib/python3.10/dist-packages/scipy/stats/_morestats.py:4088: UserWarning: Exact p-value calculation does not work if there are zeros. Switching to normal approximation.\n",
            "  warnings.warn(\"Exact p-value calculation does not work if there are \"\n",
            "/usr/local/lib/python3.10/dist-packages/scipy/stats/_morestats.py:4102: UserWarning: Sample size too small for normal approximation.\n",
            "  warnings.warn(\"Sample size too small for normal approximation.\")\n"
          ]
        }
      ]
    },
    {
      "cell_type": "code",
      "source": [],
      "metadata": {
        "id": "IHQpj6tJzoP_"
      },
      "execution_count": null,
      "outputs": []
    }
  ]
}